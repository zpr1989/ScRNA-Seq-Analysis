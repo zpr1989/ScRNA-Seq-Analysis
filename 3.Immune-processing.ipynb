{
 "cells": [
  {
   "cell_type": "code",
   "execution_count": 1,
   "id": "d4e60e10",
   "metadata": {},
   "outputs": [],
   "source": [
    "import scanpy as sc\n",
    "import os\n",
    "import math\n",
    "import itertools\n",
    "import warnings\n",
    "import numpy as np\n",
    "import pandas as pd\n",
    "import matplotlib.pyplot as plt\n",
    "%matplotlib inline\n",
    "%config InlineBackend.figure_format = 'svg'\n",
    "warnings.filterwarnings(\"ignore\")\n",
    "import seaborn as sns"
   ]
  },
  {
   "cell_type": "code",
   "execution_count": 2,
   "id": "1dcfcccc",
   "metadata": {},
   "outputs": [
    {
     "name": "stdout",
     "output_type": "stream",
     "text": [
      "scanpy==1.9.6 anndata==0.9.2 umap==0.5.5 numpy==1.23.5 scipy==1.10.1 pandas==1.5.3 scikit-learn==1.3.2 statsmodels==0.14.0 igraph==0.10.8 louvain==0.8.1 pynndescent==0.5.11\n"
     ]
    }
   ],
   "source": [
    "# 设置\n",
    "sc.settings.verbosity = 3             # 设置日志等级: errors (0), warnings (1), info (2), hints (3)\n",
    "sc.logging.print_header()\n",
    "sc.settings.set_figure_params(dpi=80, facecolor='white')"
   ]
  },
  {
   "cell_type": "code",
   "execution_count": null,
   "id": "c90ae98c-124c-46d0-841c-61f24690114a",
   "metadata": {},
   "outputs": [],
   "source": [
    "##T"
   ]
  },
  {
   "cell_type": "code",
   "execution_count": 3,
   "id": "a405fada",
   "metadata": {},
   "outputs": [],
   "source": [
    "adata = sc.read_h5ad(\"./clean0615.h5ad\")"
   ]
  },
  {
   "cell_type": "code",
   "execution_count": 5,
   "id": "be34f829-f82c-41e6-ba20-a283ec6fa8f0",
   "metadata": {},
   "outputs": [
    {
     "data": {
      "text/plain": [
       "['SMCs', 'Endothilial_PLVAP+VFM+', 'Fibroblasts', 'B/Plasma cells', 'Myeloid cells', 'Epithelial cells', 'T/NK cells', 'Mast cells', 'Endothilial_PLVAP+VFM-', 'Endothilial_PLVAP-']\n",
       "Categories (10, object): ['B/Plasma cells', 'Endothilial_PLVAP+VFM+', 'Endothilial_PLVAP+VFM-', 'Endothilial_PLVAP-', ..., 'Mast cells', 'Myeloid cells', 'SMCs', 'T/NK cells']"
      ]
     },
     "execution_count": 5,
     "metadata": {},
     "output_type": "execute_result"
    }
   ],
   "source": [
    "adata.obs.celltype_Major.unique()"
   ]
  },
  {
   "cell_type": "code",
   "execution_count": 6,
   "id": "e2dc88d3-c131-4540-b0e5-e0bbe8a484db",
   "metadata": {},
   "outputs": [],
   "source": [
    "adata_T = adata[(adata.obs['celltype_Major'].isin([\"T/NK cells\"]))]"
   ]
  },
  {
   "cell_type": "code",
   "execution_count": 7,
   "id": "4d856b30",
   "metadata": {},
   "outputs": [],
   "source": [
    "adata_T.X = adata_T.raw.X.todense()"
   ]
  },
  {
   "cell_type": "code",
   "execution_count": 8,
   "id": "dc7f8671",
   "metadata": {},
   "outputs": [
    {
     "name": "stdout",
     "output_type": "stream",
     "text": [
      "normalizing by total count per cell\n",
      "    finished (0:00:04): normalized adata.X and added    'n_counts', counts per cell before normalization (adata.obs)\n",
      "WARNING: adata.X seems to be already log-transformed.\n"
     ]
    }
   ],
   "source": [
    "sc.pp.normalize_per_cell(adata_T, counts_per_cell_after=1e4)\n",
    "sc.pp.log1p(adata_T)"
   ]
  },
  {
   "cell_type": "code",
   "execution_count": 9,
   "id": "7522c578",
   "metadata": {},
   "outputs": [
    {
     "name": "stdout",
     "output_type": "stream",
     "text": [
      "If you pass `n_top_genes`, all cutoffs are ignored.\n",
      "extracting highly variable genes\n",
      "    finished (0:00:03)\n",
      "--> added\n",
      "    'highly_variable', boolean vector (adata.var)\n",
      "    'means', float vector (adata.var)\n",
      "    'dispersions', float vector (adata.var)\n",
      "    'dispersions_norm', float vector (adata.var)\n"
     ]
    }
   ],
   "source": [
    "sc.pp.highly_variable_genes(adata_T,n_top_genes=2000)"
   ]
  },
  {
   "cell_type": "code",
   "execution_count": 11,
   "id": "d564d579",
   "metadata": {},
   "outputs": [
    {
     "data": {
      "text/plain": [
       "1986"
      ]
     },
     "execution_count": 11,
     "metadata": {},
     "output_type": "execute_result"
    }
   ],
   "source": [
    "adata_T.var.highly_variable = adata_T.var.highly_variable & [ not x.startswith(('RPL', 'RPS', 'MT-', 'MRPS', 'MRPL')) for x in adata_T.var.index ]\n",
    "sum(adata_T.var.highly_variable)"
   ]
  },
  {
   "cell_type": "code",
   "execution_count": 12,
   "id": "0052a2cb",
   "metadata": {},
   "outputs": [
    {
     "name": "stdout",
     "output_type": "stream",
     "text": [
      "computing PCA\n",
      "    on highly variable genes\n",
      "    with n_comps=50\n",
      "    finished (0:00:03)\n"
     ]
    }
   ],
   "source": [
    "sc.pp.scale( adata_T, )\n",
    "sc.tl.pca( adata_T, svd_solver='arpack', use_highly_variable = True)"
   ]
  },
  {
   "cell_type": "code",
   "execution_count": 13,
   "id": "8202fe70",
   "metadata": {},
   "outputs": [
    {
     "name": "stderr",
     "output_type": "stream",
     "text": [
      "2024-07-24 10:48:24,607 - harmonypy - INFO - Computing initial centroids with sklearn.KMeans...\n",
      "2024-07-24 10:48:30,723 - harmonypy - INFO - sklearn.KMeans initialization complete.\n",
      "2024-07-24 10:48:30,799 - harmonypy - INFO - Iteration 1 of 10\n",
      "2024-07-24 10:48:33,936 - harmonypy - INFO - Iteration 2 of 10\n",
      "2024-07-24 10:48:36,814 - harmonypy - INFO - Converged after 2 iterations\n"
     ]
    }
   ],
   "source": [
    "if True:\n",
    "    sc.external.pp.harmony_integrate(adata_T, 'sample',  \n",
    "                                     basis = 'X_pca',  \n",
    "                                     adjusted_basis= 'X_pca_harmony', \n",
    "                                     )"
   ]
  },
  {
   "cell_type": "code",
   "execution_count": 14,
   "id": "fc93123e",
   "metadata": {},
   "outputs": [
    {
     "name": "stdout",
     "output_type": "stream",
     "text": [
      "computing neighbors\n",
      "    using 'X_pca' with n_pcs = 20\n",
      "    finished: added to `.uns['neighbors']`\n",
      "    `.obsp['distances']`, distances for each pair of neighbors\n",
      "    `.obsp['connectivities']`, weighted adjacency matrix (0:00:17)\n"
     ]
    }
   ],
   "source": [
    "sc.pp.neighbors(adata_T, n_pcs=20,)"
   ]
  },
  {
   "cell_type": "code",
   "execution_count": 15,
   "id": "4f801be9",
   "metadata": {},
   "outputs": [
    {
     "name": "stdout",
     "output_type": "stream",
     "text": [
      "computing UMAP\n",
      "    finished: added\n",
      "    'X_umap', UMAP coordinates (adata.obsm) (0:00:21)\n"
     ]
    }
   ],
   "source": [
    "sc.tl.umap(adata_T)"
   ]
  },
  {
   "cell_type": "code",
   "execution_count": 15,
   "id": "707064bc",
   "metadata": {},
   "outputs": [
    {
     "name": "stdout",
     "output_type": "stream",
     "text": [
      "running Louvain clustering\n",
      "    using the \"louvain\" package of Traag (2017)\n",
      "    finished: found 12 clusters and added\n",
      "    'cluter_cell_1', the cluster labels (adata.obs, categorical) (0:00:00)\n"
     ]
    }
   ],
   "source": [
    "sc.tl.louvain(adata_T,resolution=1,key_added=\"cluter_cell_1\")"
   ]
  },
  {
   "cell_type": "code",
   "execution_count": 16,
   "id": "14f0b463",
   "metadata": {},
   "outputs": [],
   "source": [
    "from statannot import add_stat_annotation\n"
   ]
  },
  {
   "cell_type": "code",
   "execution_count": 17,
   "id": "4029ef3c-e7c7-4365-883f-2fe4f1c2037c",
   "metadata": {},
   "outputs": [],
   "source": [
    "### myloiad  重复 T 细胞"
   ]
  },
  {
   "cell_type": "code",
   "execution_count": 18,
   "id": "93008948",
   "metadata": {},
   "outputs": [],
   "source": [
    "###  cellponedb"
   ]
  },
  {
   "cell_type": "code",
   "execution_count": 20,
   "id": "bb5fe745",
   "metadata": {},
   "outputs": [],
   "source": [
    "\"\"\"\n",
    "cellphonedb method statistical_analysis --counts-data ensembl --output-path output meta.txt counts.txt\n",
    "cellphonedb plot heatmap_plot --pvalues-path pvalues.txt --output-path output --pvalue 0.05 --count-name heatmap_count.pdf --log-name test.heatmap_log_count.pdf --count-network-name count_network.txt --interaction-count-name interaction_count.txt meta.txt\n",
    "\"\"\""
   ]
  },
  {
   "cell_type": "code",
   "execution_count": 21,
   "id": "abc1a83d",
   "metadata": {},
   "outputs": [],
   "source": [
    "import os\n",
    "import anndata as ad\n",
    "import pandas as pd\n",
    "import ktplotspy as kpy\n",
    "import matplotlib.pyplot as plt\n",
    "from plotnine import ggplot, aes, geom_point, theme,element_blank\n",
    "from plotnine import *"
   ]
  },
  {
   "cell_type": "code",
   "execution_count": 22,
   "id": "1ff49acb",
   "metadata": {},
   "outputs": [],
   "source": [
    "adata = ad.read_h5ad(\"adata_allraw.h5ad\")\n",
    "\n",
    "# 2) output from CellPhoneDB\n",
    "means = pd.read_csv(\"means.txt\", sep=\"\\t\")\n",
    "pvals = pd.read_csv(\"pvalues.txt\", sep=\"\\t\")\n",
    "decon = pd.read_csv(\"deconvoluted.txt\", sep=\"\\t\")\n"
   ]
  },
  {
   "cell_type": "code",
   "execution_count": null,
   "id": "2c4d435b-f013-476a-b513-511d11eb611f",
   "metadata": {},
   "outputs": [],
   "source": [
    "p = kpy.plot_cpdb(\n",
    "    adata=adata,\n",
    "    cell_type1=\"Fibroblasts\",\n",
    "    cell_type2=\"Endothelial_PLVAP+VFM+|Endothelial_PLVAP-|Epithelial cells|Myeloid cells|Endothelial_PLVAP+VFM-|\",\n",
    "    means=means[b],\n",
    "    pvals=pvals[b],\n",
    "    celltype_key=\"celltype_Major\",\n",
    "    highlight_size=1,\n",
    "    genes=[\"SPP1\",\"CD274\",\"PDCD1\",\"CCL3\",\"NOTCH1\",\"CXCL\",\"CCL4\"],\n",
    "    figsize=(6.5, 10.5),\n",
    "    title=\"Major Ligand-Receptor of HC\",\n",
    "#         default_style=False,\n",
    "\n",
    ")\n",
    "p= p+ theme(panel_grid_major = element_blank(), panel_grid_minor = element_blank(),\n",
    "            figure_size=(5, 10),text=element_text(size=16),axis_text_x=element_text(rotation=45,hjust=1),\n",
    "           axis_title=element_blank()\n",
    "           \n",
    "           )"
   ]
  },
  {
   "cell_type": "code",
   "execution_count": 26,
   "id": "6e981b0f",
   "metadata": {},
   "outputs": [],
   "source": [
    "p.save(\"F2D.CHC.pdf\")"
   ]
  },
  {
   "cell_type": "code",
   "execution_count": 29,
   "id": "7267d833-020d-40f9-a171-9fec075b3511",
   "metadata": {},
   "outputs": [],
   "source": [
    "plt1 = kpy.plot_cpdb_heatmap(pvals=pvals, figsize=(8, 8), title=\"Sum of significant interactions\",\n",
    "                 \n",
    "                     )\n",
    "plt1.ax_heatmap.set_xticklabels(plt1.ax_heatmap.get_xmajorticklabels(), fontsize = 14)\n",
    "plt1.ax_heatmap.set_yticklabels(plt1.ax_heatmap.get_xmajorticklabels(), fontsize = 14)\n",
    "plt1.savefig(\"figures/F2A.pdf\")"
   ]
  },
  {
   "cell_type": "code",
   "execution_count": 48,
   "id": "b77ca5bb-b54c-4b5e-b30d-e906052ba604",
   "metadata": {},
   "outputs": [],
   "source": [
    "CHC = pd.read_csv(\"count_network.txt\",sep=\"\\t\")"
   ]
  },
  {
   "cell_type": "code",
   "execution_count": null,
   "id": "b1a00339-524f-4520-ac8a-48b0536f37d0",
   "metadata": {},
   "outputs": [],
   "source": [
    "key = \"Fibroblasts\"\n",
    "Fibroblasts = CHC[CHC.SOURCE == key]\n",
    "names = ['Endothilial_PLVAP+VFM-',\n",
    " 'Endothilial_PLVAP+VFM+',\n",
    "         'Endothilial_PLVAP-',\n",
    " 'Myeloid cells',\n",
    " 'T/NK cells',\n",
    " 'B/Plasma cells',\n",
    " 'SMCs',\n",
    " 'Mast cells',\n",
    " 'Fibroblasts',\n",
    " 'Epithelial cells'\n",
    "        ]"
   ]
  },
  {
   "cell_type": "code",
   "execution_count": null,
   "id": "27a30b2a-daab-44ad-aeb4-353f48d322b1",
   "metadata": {},
   "outputs": [],
   "source": [
    "cout = list(Fibroblasts.set_index(\"TARGET\").T[names].T['count'])"
   ]
  },
  {
   "cell_type": "code",
   "execution_count": null,
   "id": "d9ca5b31-661d-4b71-86db-148a14286ebc",
   "metadata": {},
   "outputs": [],
   "source": [
    "import matplotlib\n",
    "cmap = matplotlib.cm.get_cmap(\"tab20\")\n",
    "listc = []\n",
    "for i in range(30):\n",
    "    listc.append(cmap(i))\n"
   ]
  },
  {
   "cell_type": "code",
   "execution_count": null,
   "id": "a5261c4e-1918-43e7-b664-a20bc38cba2e",
   "metadata": {},
   "outputs": [],
   "source": [
    "import igraph as ig\n",
    "import matplotlib.pyplot as plt\n",
    "import pandas as pd"
   ]
  },
  {
   "cell_type": "code",
   "execution_count": null,
   "id": "db36309d-b333-42e0-a18d-6bcc1418665f",
   "metadata": {},
   "outputs": [],
   "source": [
    "n_vertices = 10\n",
    "edges = [(0, 8),(1, 8),(2, 8),(3,8),(4,8),(5,8),(6,8),(7,8),(8,8),(9,8)]\n",
    "g = ig.Graph(n_vertices, edges)\n",
    "\n",
    "# Set attributes for the graph, nodes, and edges\n",
    "# g[\"title\"] = \"Small Social Network\"\n",
    "g.vs[\"name\"] = names\n",
    "# g.es[\"married\"] = [False, False, False, False, False, False, False, True]\n",
    "\n",
    "# Set individual attributes\n",
    "# g.vs[1][\"name\"] = \"Kathy Morillas\"\n",
    "# g.es[0][\"married\"] = True\n",
    "\n",
    "# Plot in matplotlib\n",
    "# Note that attributes can be set globally (e.g. vertex_size), or set individually using arrays (e.g. vertex_color)\n",
    "fig, ax = plt.subplots(figsize=(7,7))\n",
    "ig.plot(\n",
    "    g,\n",
    "    target=ax,\n",
    "    layout=\"circle\", # print nodes in a circular layout\n",
    "    vertex_size=0.3,\n",
    "    vertex_color=listc[0:10],\n",
    "    vertex_frame_width=1.0,\n",
    "    vertex_frame_color=\"white\",\n",
    "    vertex_label=g.vs[\"name\"],\n",
    "    vertex_label_size=12,\n",
    "        edge_curved=\"0.1\",\n",
    "    edge_label=cout,edge_label_size=14,\n",
    "    \n",
    "    autocurve=True,\n",
    "    edge_width=list(Fibroblasts['count']/60),\n",
    "#     edge_curved=1,\n",
    "    edge_color=listc[0:10],edge_arrow_size=\"12\",\n",
    ")\n",
    "\n",
    "# plt.show()\n",
    "plt.title(\"Sum of HC Fibroblasts\")\n",
    "plt.savefig(\"./figures/F2HC.F.pdf\")"
   ]
  },
  {
   "cell_type": "code",
   "execution_count": null,
   "id": "d82a95f9-f995-4c6c-b2ff-59a12940e8a7",
   "metadata": {},
   "outputs": [],
   "source": [
    "###  trajectory"
   ]
  },
  {
   "cell_type": "code",
   "execution_count": null,
   "id": "2853b467-7317-419b-ab38-fbfcea0a62d3",
   "metadata": {},
   "outputs": [],
   "source": [
    "\"\"\"\n",
    "library(monocle)\n",
    "library(ggplot2)\n",
    "library(cowplot)\n",
    "library(dplyr)\n",
    "fd <- read.delim(\"genes.tsv\", row.names = 1)\n",
    "fd <- new(\"AnnotatedDataFrame\", data = fd)\n",
    "data <- read.table(\"RCexp.tsv\",)\n",
    "pd <- read.delim(\"meta.tsv\", row.names = 1)\n",
    "pd <- new(\"AnnotatedDataFrame\", data = pd)\n",
    "\n",
    "HSMM <- newCellDataSet(as.matrix(data), phenoData = pd, featureData = fd,)\n",
    "HSMM <- estimateSizeFactors(HSMM)\n",
    "HSMM <- estimateDispersions(HSMM)\n",
    "HSMM <- detectGenes(HSMM, min_expr = 0.1)\n",
    "print(head(fData(HSMM)))\n",
    "\n",
    "expressed_genes <- row.names(subset(fData(HSMM), num_cells_expressed >= 10))\n",
    "write.table(expressed_genes, file = paste(\"./\", \"/\", \"expressed_genes.tsv\", sep = \"\"), sep = \"\\t\", quote = F, row.names = F, col.names = T)\n",
    "HSMM <- HSMM[expressed_genes]\n",
    "x <- pData(HSMM)$num_genes_expressed\n",
    "x_1 <- (x - mean(x)) / sd(x)\n",
    "df <- data.frame(x = x_1)\n",
    "\n",
    "clustering_DEG_genes <- dispersionTable(HSMM)\n",
    "disp.genes <- subset(clustering_DEG_genes, mean_expression >= 0.1 & dispersion_empirical >= 1 * dispersion_fit)$gene_id\n",
    "write.table(disp.genes, file = paste(\"./\", \"/\", \"disp_genes.tsv\", sep = \"\"), sep = \"\\t\", quote = F, row.names = F, col.names = T)\n",
    "HSMM <- setOrderingFilter(HSMM, disp.genes)\n",
    "HSMM_rd <- reduceDimension(HSMM, max_components = 2, num_dim = 5, method = 'DDRTree', verbose = TRUE,)\n",
    "HSMM_sort <- orderCells(HSMM_rd,)\n",
    "saveRDS(HSMM_sort, file = paste(\"./\", \"/\", \"CelldataSet.rds\",sep = \"\"))\n",
    "\n",
    "df <- data.frame(barcode = row.names(pData(HSMM_sort)), pData(HSMM_sort))\n",
    "write.table(df, file = paste(\"./\", \"/\", \"Pseudotime.tsv\", sep = \"\"), sep = \"\\t\", quote = F, row.names = F, col.names = T)\n",
    "\"\"\"\n",
    "# R4.1"
   ]
  },
  {
   "cell_type": "code",
   "execution_count": null,
   "id": "12f2e583-0f26-40f8-8314-aaab4ea4e7b6",
   "metadata": {},
   "outputs": [],
   "source": [
    "\"\"\"\n",
    " library(monocle)\n",
    " library(ggplot2)\n",
    " library(cowplot)\n",
    " library(dplyr)\n",
    " HSMM_sort <- readRDS(paste(\"./\",'/',\"CelldataSet.rds\",sep = \"\"))\n",
    " HSMM_sort$cell_typeA1 <- as.character(HSMM_sort$cell_typeA1)\n",
    "\n",
    " df <- data.frame(barcode = row.names(pData(HSMM_sort)), pData(HSMM_sort))\n",
    " pdf(file = paste(\"./\",'/', \"pseudotime.pdf\",sep = \"\"), height = 5, width = 10)\n",
    " plot_cell_trajectory(HSMM_sort, color_by = \"Pseudotime\") #Pseudotime\n",
    " dev.off()\n",
    " pdf(file = paste(\"./\",'/', \"state.pdf\",sep = \"\"), height =  5, width = 10)\n",
    " plot_cell_trajectory(HSMM_sort, color_by = \"State\") #Pseudotime\n",
    " dev.off()\"\"\"\n"
   ]
  }
 ],
 "metadata": {
  "kernelspec": {
   "display_name": "Python 3 (ipykernel)",
   "language": "python",
   "name": "python3"
  },
  "language_info": {
   "codemirror_mode": {
    "name": "ipython",
    "version": 3
   },
   "file_extension": ".py",
   "mimetype": "text/x-python",
   "name": "python",
   "nbconvert_exporter": "python",
   "pygments_lexer": "ipython3",
   "version": "3.8.0"
  }
 },
 "nbformat": 4,
 "nbformat_minor": 5
}
